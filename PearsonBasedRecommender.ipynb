{
 "cells": [
  {
   "cell_type": "markdown",
   "metadata": {},
   "source": [
    "Author: Rekhansh Panchal (rpanchal@uncc.edu) & Aditya Gupta (agupta42@uncc.edu) \n",
    "\n",
    "Cloud Computing for Data Analysis: ITCS 6190 under Dr. Srinivas Akella.\n",
    "\n",
    "Recommender System for movies on Netflix dataset.\n",
    "\n",
    "Usage: spark-submit pearsonbasedrecommender.py <movieTitleFile> <inputFile> <outputFile>"
   ]
  },
  {
   "cell_type": "code",
   "execution_count": 1,
   "metadata": {},
   "outputs": [],
   "source": [
    "'''\n",
    "Importing Required libraries.\n",
    "'''\n",
    "import os, sys\n",
    "import pandas as pd\n",
    "import seaborn\n",
    "import matplotlib.pyplot as plt\n",
    "import numpy as np"
   ]
  },
  {
   "cell_type": "code",
   "execution_count": 2,
   "metadata": {},
   "outputs": [],
   "source": [
    "'''\n",
    "Define Constants\n",
    "'''\n",
    "COMMA = \",\"\n",
    "COLON = \":\"\n",
    "count = 1"
   ]
  },
  {
   "cell_type": "code",
   "execution_count": 3,
   "metadata": {},
   "outputs": [],
   "source": [
    "def updateCount(c):\n",
    "    global count\n",
    "    count = c\n",
    "    return count"
   ]
  },
  {
   "cell_type": "code",
   "execution_count": 4,
   "metadata": {},
   "outputs": [],
   "source": [
    "'''\n",
    "Function to return movie titles from given input and seperate the data as required.\n",
    "Movie Format: movie_id, year_of_release, movie_title\n",
    "'''\n",
    "def getMovieDetails(movie):\n",
    "    \n",
    "    movie = movie.split(COMMA)\n",
    "    return movie[0], movie[2]\n",
    "\n",
    "def getCount():\n",
    "    global count\n",
    "    return count"
   ]
  },
  {
   "cell_type": "code",
   "execution_count": 5,
   "metadata": {},
   "outputs": [],
   "source": [
    "'''\n",
    "Function to return user_id, movie_id, and movie_rating.\n",
    "Data input format: \n",
    "movie_id:\n",
    "user_id, movie_rating, date_of_rating\n",
    "'''\n",
    "def getRatingsByUser(inputData):\n",
    "\n",
    "    try:\n",
    "        inp = inputData.split(COMMA)\n",
    "        return getCount(), (int(inp[0])), (float(inp[1]))\n",
    "    except ValueError:\n",
    "        \n",
    "        inp = inputData.split(COLON)\n",
    "        updateCount(int(inp[0]))\n",
    "        return None"
   ]
  },
  {
   "cell_type": "code",
   "execution_count": 6,
   "metadata": {},
   "outputs": [
    {
     "ename": "AttributeError",
     "evalue": "'RDD' object has no attribute 'parallelize'",
     "output_type": "error",
     "traceback": [
      "\u001b[0;31m---------------------------------------------------------------------------\u001b[0m",
      "\u001b[0;31mAttributeError\u001b[0m                            Traceback (most recent call last)",
      "\u001b[0;32m<ipython-input-6-5113dbea1d4d>\u001b[0m in \u001b[0;36m<module>\u001b[0;34m()\u001b[0m\n\u001b[1;32m     19\u001b[0m \u001b[0mratings_input\u001b[0m \u001b[0;34m=\u001b[0m \u001b[0msc\u001b[0m\u001b[0;34m.\u001b[0m\u001b[0mtextFile\u001b[0m\u001b[0;34m(\u001b[0m\u001b[0;34m\"/home/rekhansh/Downloads/Netflix Data/input.txt\"\u001b[0m\u001b[0;34m)\u001b[0m\u001b[0;34m\u001b[0m\u001b[0m\n\u001b[1;32m     20\u001b[0m \u001b[0;31m#ratings = ratings_input.filter(lambda x: getRatingsByUser).cache()\u001b[0m\u001b[0;34m\u001b[0m\u001b[0;34m\u001b[0m\u001b[0m\n\u001b[0;32m---> 21\u001b[0;31m \u001b[0mratings\u001b[0m \u001b[0;34m=\u001b[0m \u001b[0mratings_input\u001b[0m\u001b[0;34m.\u001b[0m\u001b[0mparallelize\u001b[0m\u001b[0;34m(\u001b[0m\u001b[0;34m)\u001b[0m\u001b[0;34m.\u001b[0m\u001b[0mmap\u001b[0m\u001b[0;34m(\u001b[0m\u001b[0mgetRatingsByUser\u001b[0m\u001b[0;34m)\u001b[0m\u001b[0;34m.\u001b[0m\u001b[0mcache\u001b[0m\u001b[0;34m(\u001b[0m\u001b[0;34m)\u001b[0m\u001b[0;34m\u001b[0m\u001b[0m\n\u001b[0m\u001b[1;32m     22\u001b[0m \u001b[0mx\u001b[0m \u001b[0;34m=\u001b[0m \u001b[0mratings\u001b[0m\u001b[0;34m.\u001b[0m\u001b[0mcollect\u001b[0m\u001b[0;34m(\u001b[0m\u001b[0;34m)\u001b[0m\u001b[0;34m\u001b[0m\u001b[0m\n",
      "\u001b[0;31mAttributeError\u001b[0m: 'RDD' object has no attribute 'parallelize'"
     ]
    }
   ],
   "source": [
    "'''if __name__ == \"__main__\":\n",
    "    if len(sys.argv) < 2:\n",
    "        print >> sys.stderr, \"Usage: pearsonbasedrecommender <movieTitleFile> <inputFile> <outputFile>\"\n",
    "        exit(-1)\n",
    "'''\n",
    "\n",
    "'''\n",
    "Movie Titles: movie_id,year_of_release, movie_title\n",
    "Create an RDD with each line as element\n",
    "'''\n",
    "#movie_titles_input = sc.textFile(\"/home/rekhansh/Downloads/Netflix Data/movie_titles_small.csv\")\n",
    "#movie_titles = movie_titles_input.map(getMovieDetails).cache()\n",
    "\n",
    "\n",
    "'''\n",
    "Data input with Ratings.\n",
    "Creating RDD.\n",
    "'''\n",
    "ratings_input = sc.textFile(\"/home/rekhansh/Downloads/Netflix Data/input.txt\")\n",
    "#ratings = ratings_input.filter(lambda x: getRatingsByUser).cache()\n",
    "ratings = ratings_input.map(getRatingsByUser).cache()\n",
    "x = ratings.collect()"
   ]
  },
  {
   "cell_type": "code",
   "execution_count": null,
   "metadata": {},
   "outputs": [],
   "source": [
    "#movie_titles_collection = movie_titles.collect()"
   ]
  },
  {
   "cell_type": "code",
   "execution_count": null,
   "metadata": {},
   "outputs": [],
   "source": [
    "print x"
   ]
  },
  {
   "cell_type": "code",
   "execution_count": null,
   "metadata": {},
   "outputs": [],
   "source": []
  },
  {
   "cell_type": "code",
   "execution_count": null,
   "metadata": {},
   "outputs": [],
   "source": []
  }
 ],
 "metadata": {
  "kernelspec": {
   "display_name": "Python 2",
   "language": "python",
   "name": "python2"
  },
  "language_info": {
   "codemirror_mode": {
    "name": "ipython",
    "version": 2
   },
   "file_extension": ".py",
   "mimetype": "text/x-python",
   "name": "python",
   "nbconvert_exporter": "python",
   "pygments_lexer": "ipython2",
   "version": "2.7.14"
  }
 },
 "nbformat": 4,
 "nbformat_minor": 2
}
