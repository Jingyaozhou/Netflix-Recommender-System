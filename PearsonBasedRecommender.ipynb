{
 "cells": [
  {
   "cell_type": "markdown",
   "metadata": {},
   "source": [
    "Author: Rekhansh Panchal (rpanchal@uncc.edu) & Aditya Gupta (agupta42@uncc.edu) \n",
    "\n",
    "Cloud Computing for Data Analysis: ITCS 6190 under Dr. Srinivas Akella.\n",
    "\n",
    "Recommender System for movies on Netflix dataset.\n",
    "\n",
    "Usage: spark-submit pearsonbasedrecommender.py <movieTitleFile> <inputFile> <outputFile>"
   ]
  },
  {
   "cell_type": "code",
   "execution_count": 1,
   "metadata": {},
   "outputs": [],
   "source": [
    "'''\n",
    "Importing Required libraries.\n",
    "'''\n",
    "import os, sys\n",
    "import pandas as pd\n",
    "import numpy as np\n",
    "from pyspark import SparkContext"
   ]
  },
  {
   "cell_type": "code",
   "execution_count": 2,
   "metadata": {},
   "outputs": [],
   "source": [
    "'''\n",
    "Define Constants\n",
    "'''\n",
    "COMMA = \",\"\n",
    "COLON = \":\""
   ]
  },
  {
   "cell_type": "code",
   "execution_count": 3,
   "metadata": {},
   "outputs": [],
   "source": [
    "'''\n",
    "Function to get data in required format.\n",
    "'''\n",
    "def cleanDataAndReturnPath(path1, path2):\n",
    "    f1 = open(path1, 'r')\n",
    "    f2 = open(path2, 'w')\n",
    "    count = 1\n",
    "    for line in f1:\n",
    "        if(',' in line):\n",
    "            inp = line.split(\",\")\n",
    "            if(count % 25 == 0):\n",
    "                f2.write(str(count) + \",\" + inp[0] + \",\" + inp[1] + \"\\n\")\n",
    "        else:\n",
    "            inp = line.split(\":\")\n",
    "            count = int(inp[0])\n",
    "        \n",
    "    f1.close()\n",
    "    f2.close()\n",
    "    return path2"
   ]
  },
  {
   "cell_type": "code",
   "execution_count": 4,
   "metadata": {},
   "outputs": [],
   "source": [
    "'''\n",
    "Function to return movie titles from given input and seperate the data as required.\n",
    "Movie Format: movie_id, year_of_release, movie_title\n",
    "'''\n",
    "def getMovieDetails(movie):\n",
    "    \n",
    "    movie = movie.split(COMMA)\n",
    "    return movie[0], movie[2]"
   ]
  },
  {
   "cell_type": "code",
   "execution_count": 5,
   "metadata": {},
   "outputs": [],
   "source": [
    "'''\n",
    "Function to return user_id, movie_id, and movie_rating.\n",
    "Data input format: \n",
    "movie_id:\n",
    "user_id, movie_rating, date_of_rating\n",
    "'''\n",
    "def getRatingsByUser(inputData):\n",
    "\n",
    "    inp = inputData.split(COMMA)\n",
    "    return (int(inp[0])), (int(inp[1])),(float(inp[2]))"
   ]
  },
  {
   "cell_type": "code",
   "execution_count": 6,
   "metadata": {},
   "outputs": [
    {
     "name": "stdout",
     "output_type": "stream",
     "text": [
      "data_1_clean.txt\n"
     ]
    }
   ],
   "source": [
    "path1 = cleanDataAndReturnPath('combined_data_1.txt', 'data_1_clean.txt')\n",
    "print(path1)"
   ]
  },
  {
   "cell_type": "code",
   "execution_count": 7,
   "metadata": {},
   "outputs": [
    {
     "name": "stdout",
     "output_type": "stream",
     "text": [
      "Movie Titles fetch complete. Number of Movie Titles: 138\n",
      "Ratings fetch complete. Available ratings are: 1197493\n"
     ]
    }
   ],
   "source": [
    "'''if __name__ == \"__main__\":\n",
    "    if len(sys.argv) < 2:\n",
    "        print >> sys.stderr, \"Usage: pearsonbasedrecommender <movieTitleFile> <inputFile> <outputFile>\"\n",
    "        exit(-1)\n",
    "'''\n",
    "sc = SparkContext.getOrCreate()\n",
    "\n",
    "'''\n",
    "Movie Titles: movie_id,year_of_release, movie_title\n",
    "Create an RDD with each line as element\n",
    "'''\n",
    "\n",
    "movie_titles_input = sc.textFile(\"movie_titles_small.csv\")\n",
    "movie_titles = movie_titles_input.map(getMovieDetails).cache()\n",
    "movie_titles_collection = movie_titles.collect()\n",
    "print(\"Movie Titles fetch complete. Number of Movie Titles: \" + str(movie_titles.count()))\n",
    "\n",
    "'''\n",
    "Data input with Ratings.\n",
    "Creating RDD.\n",
    "'''\n",
    "\n",
    "ratings_input = sc.textFile(path1)\n",
    "ratings = ratings_input.map(getRatingsByUser).cache()\n",
    "x = ratings.collect()\n",
    "print(\"Ratings fetch complete. Available ratings are: \" + str(ratings_input.count()))"
   ]
  },
  {
   "cell_type": "code",
   "execution_count": null,
   "metadata": {},
   "outputs": [],
   "source": []
  },
  {
   "cell_type": "code",
   "execution_count": null,
   "metadata": {},
   "outputs": [],
   "source": []
  },
  {
   "cell_type": "code",
   "execution_count": null,
   "metadata": {},
   "outputs": [],
   "source": []
  },
  {
   "cell_type": "code",
   "execution_count": null,
   "metadata": {},
   "outputs": [],
   "source": []
  }
 ],
 "metadata": {
  "kernelspec": {
   "display_name": "Python 2",
   "language": "python",
   "name": "python2"
  },
  "language_info": {
   "codemirror_mode": {
    "name": "ipython",
    "version": 2
   },
   "file_extension": ".py",
   "mimetype": "text/x-python",
   "name": "python",
   "nbconvert_exporter": "python",
   "pygments_lexer": "ipython2",
   "version": "2.7.14"
  }
 },
 "nbformat": 4,
 "nbformat_minor": 2
}
